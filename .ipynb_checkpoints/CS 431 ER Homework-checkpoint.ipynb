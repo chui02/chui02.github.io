{
 "cells": [
  {
   "cell_type": "code",
   "execution_count": null,
   "metadata": {},
   "outputs": [],
   "source": [
    "CREATE TABLE Customer (\n",
    "    CustomerID INT PRIMARY KEY,\n",
    "    Name VARCHAR(100),\n",
    "    SSN VARCHAR(20),\n",
    "    Address VARCHAR(255),\n",
    "    PhoneNumber VARCHAR(20)\n",
    ");\n",
    "\n",
    "CREATE TABLE Account (\n",
    "    AccountID INT PRIMARY KEY,\n",
    "    CustomerID INT,\n",
    "    Balance DECIMAL(10,2),\n",
    "    Type VARCHAR(50),\n",
    "    FOREIGN KEY (CustomerID) REFERENCES Customer(CustomerID)\n",
    ");\n",
    "\n",
    "CREATE TABLE Transaction (\n",
    "    TransactionID INT PRIMARY KEY,\n",
    "    AccountID INT,\n",
    "    Amount DECIMAL(10,2),\n",
    "    Type VARCHAR(50),\n",
    "    Timestamp DATETIME,\n",
    "    FOREIGN KEY (AccountID) REFERENCES Account(AccountID)\n",
    ");\n",
    "\n",
    "CREATE TABLE Branch (\n",
    "    BranchID INT PRIMARY KEY,\n",
    "    Location VARCHAR(255)\n",
    ");\n",
    "\n",
    "CREATE TABLE Employee (\n",
    "    EmployeeID INT PRIMARY KEY,\n",
    "    Name VARCHAR(100),\n",
    "    Position VARCHAR(50),\n",
    "    BranchID INT,\n",
    "    FOREIGN KEY (BranchID) REFERENCES Branch(BranchID)\n",
    ");\n"
   ]
  }
 ],
 "metadata": {
  "language_info": {
   "name": "python"
  }
 },
 "nbformat": 4,
 "nbformat_minor": 2
}
